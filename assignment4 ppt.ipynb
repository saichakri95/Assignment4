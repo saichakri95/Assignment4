{
 "cells": [
  {
   "cell_type": "code",
   "execution_count": 1,
   "id": "85fb50a8-6f10-4838-af13-b405059b49f8",
   "metadata": {},
   "outputs": [
    {
     "name": "stdout",
     "output_type": "stream",
     "text": [
      "[[1, 3], [4, 6]]\n"
     ]
    }
   ],
   "source": [
    "#question2 solution\n",
    "class Solution:\n",
    "    def findDifference(self, nums1: list[int], nums2: list[int]) -> list[list[int]]:\n",
    "        n1=set(nums1)\n",
    "        n2=set(nums2)\n",
    "        r1=list(set(x for x in nums1 if x not in n2))\n",
    "        r2=list(set(x for x in nums2 if x not in n1))\n",
    "        return [r1,r2]\n",
    "        \n",
    "s=Solution()\n",
    "nums1 = [1,2,3]\n",
    "nums2 = [2,4,6]\n",
    "output=s.findDifference(nums1,nums2)\n",
    "print(output)"
   ]
  },
  {
   "cell_type": "code",
   "execution_count": 2,
   "id": "ce2ec959-707d-4085-a37b-32d186f90da6",
   "metadata": {},
   "outputs": [
    {
     "name": "stdout",
     "output_type": "stream",
     "text": [
      "[[1, 4, 7], [2, 5, 8], [3, 6, 9]]\n"
     ]
    }
   ],
   "source": [
    "#question3 solution\n",
    "class Solution:\n",
    "    def transpose(self, matrix: list[list[int]]) -> list[list[int]]:\n",
    "        l=[]\n",
    "        for i in range(len(matrix[0])):\n",
    "            temp = []\n",
    "            for j in range(len(matrix)):\n",
    "                temp.append(matrix[j][i])\n",
    "            l.append(temp)\n",
    "        return l\n",
    "s=Solution()        \n",
    "matrix = [[1,2,3],[4,5,6],[7,8,9]]\n",
    "output=s.transpose(matrix)\n",
    "print(output)"
   ]
  },
  {
   "cell_type": "code",
   "execution_count": 4,
   "id": "a3a0d303-3557-440c-903a-03a282339830",
   "metadata": {},
   "outputs": [
    {
     "name": "stdout",
     "output_type": "stream",
     "text": [
      "4\n"
     ]
    }
   ],
   "source": [
    "#question4 solution \n",
    "class Solution:\n",
    "    def maxSum(self, nums: list[int]) -> int:\n",
    "        nums.sort()\n",
    "        r=0\n",
    "        for i in range(0,len(nums),2):\n",
    "            r+=min(nums[i],nums[i+1])\n",
    "        return(r)\n",
    "s=Solution()\n",
    "nums = [1,4,3,2]\n",
    "print(s.maxSum(nums))"
   ]
  },
  {
   "cell_type": "code",
   "execution_count": 5,
   "id": "cc9724c3-e5e8-4b46-9005-c0343c871c6f",
   "metadata": {},
   "outputs": [
    {
     "name": "stdout",
     "output_type": "stream",
     "text": [
      "2\n"
     ]
    }
   ],
   "source": [
    "#question5 solution\n",
    "class Solution:\n",
    "    def arrangeCoins(self, n: int) -> int:\n",
    "        left, right = 1, n\n",
    "        while left <= right:\n",
    "            mid = left + (right - left) // 2\n",
    "            coins = (mid * (mid + 1)) // 2\n",
    "            if coins <= n:\n",
    "                left = mid + 1\n",
    "            else:\n",
    "                right = mid - 1\n",
    "        return right\n",
    "s=Solution()        \n",
    "n = 5\n",
    "output=s.arrangeCoins(n)\n",
    "print(output)"
   ]
  },
  {
   "cell_type": "code",
   "execution_count": 6,
   "id": "e1e70306-7413-4262-96c3-5785bfaa5f25",
   "metadata": {},
   "outputs": [
    {
     "name": "stdout",
     "output_type": "stream",
     "text": [
      "[0, 1, 9, 16, 100]\n"
     ]
    }
   ],
   "source": [
    "#question 6 solution\n",
    "class Solution:\n",
    "    def sortedSquares(self, nums: list[int]) -> list[int]:\n",
    "        new = [x**2 for x in nums]\n",
    "        new.sort()\n",
    "        return new\n",
    "s=Solution()        \n",
    "nums = [-4,-1,0,3,10]\n",
    "output=s.sortedSquares(nums)\n",
    "print(output)"
   ]
  },
  {
   "cell_type": "code",
   "execution_count": 7,
   "id": "20ae1e95-ee79-4549-a0c9-c4aa77ca7078",
   "metadata": {},
   "outputs": [
    {
     "name": "stdout",
     "output_type": "stream",
     "text": [
      "[2, 3, 5, 4, 1, 7]\n"
     ]
    }
   ],
   "source": [
    "#question 8 solution\n",
    "class Solution:\n",
    "    def shuffle(self, nums: list[int], n: int) -> list[int]:\n",
    "        arr1=[]\n",
    "        arr2=[]\n",
    "        arr3=[]\n",
    "        for i in range(n):\n",
    "            arr1.append(nums[i])\n",
    "        for i in range(n,2*n):\n",
    "            arr2.append(nums[i])\n",
    "        for i in range(n):\n",
    "            arr3.append(arr1[i])\n",
    "            arr3.append(arr2[i])\n",
    "        return arr3\n",
    "s=Solution()        \n",
    "nums = [2,5,1,3,4,7]\n",
    "n = 3\n",
    "output=s.shuffle(nums,n)\n",
    "print(output)"
   ]
  },
  {
   "cell_type": "code",
   "execution_count": null,
   "id": "6f1b923c-5a75-4d73-b653-7a4e12874ce2",
   "metadata": {},
   "outputs": [],
   "source": []
  }
 ],
 "metadata": {
  "kernelspec": {
   "display_name": "Python 3 (ipykernel)",
   "language": "python",
   "name": "python3"
  },
  "language_info": {
   "codemirror_mode": {
    "name": "ipython",
    "version": 3
   },
   "file_extension": ".py",
   "mimetype": "text/x-python",
   "name": "python",
   "nbconvert_exporter": "python",
   "pygments_lexer": "ipython3",
   "version": "3.10.6"
  }
 },
 "nbformat": 4,
 "nbformat_minor": 5
}
